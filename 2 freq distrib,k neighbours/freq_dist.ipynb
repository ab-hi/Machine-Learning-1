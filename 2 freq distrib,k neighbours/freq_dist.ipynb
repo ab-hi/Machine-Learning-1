{
 "cells": [
  {
   "cell_type": "code",
   "execution_count": 6,
   "metadata": {
    "collapsed": false
   },
   "outputs": [],
   "source": [
    "import pandas as pd\n",
    "import numpy as np\n",
    "from matplotlib import pyplot as plt\n",
    "%matplotlib inline"
   ]
  },
  {
   "cell_type": "code",
   "execution_count": 11,
   "metadata": {
    "collapsed": false
   },
   "outputs": [
    {
     "name": "stdout",
     "output_type": "stream",
     "text": [
      "Index([u'color', u'director_name', u'num_critic_for_reviews', u'duration',\n",
      "       u'director_facebook_likes', u'actor_3_facebook_likes', u'actor_2_name',\n",
      "       u'actor_1_facebook_likes', u'gross', u'genres', u'actor_1_name',\n",
      "       u'movie_title', u'num_voted_users', u'cast_total_facebook_likes',\n",
      "       u'actor_3_name', u'facenumber_in_poster', u'plot_keywords',\n",
      "       u'movie_imdb_link', u'num_user_for_reviews', u'language', u'country',\n",
      "       u'content_rating', u'budget', u'title_year', u'actor_2_facebook_likes',\n",
      "       u'imdb_score', u'aspect_ratio', u'movie_facebook_likes'],\n",
      "      dtype='object')\n"
     ]
    },
    {
     "data": {
      "text/html": [
       "<div>\n",
       "<table border=\"1\" class=\"dataframe\">\n",
       "  <thead>\n",
       "    <tr style=\"text-align: right;\">\n",
       "      <th></th>\n",
       "      <th>color</th>\n",
       "      <th>director_name</th>\n",
       "      <th>num_critic_for_reviews</th>\n",
       "      <th>duration</th>\n",
       "      <th>director_facebook_likes</th>\n",
       "      <th>actor_3_facebook_likes</th>\n",
       "      <th>actor_2_name</th>\n",
       "      <th>actor_1_facebook_likes</th>\n",
       "      <th>gross</th>\n",
       "      <th>genres</th>\n",
       "      <th>...</th>\n",
       "      <th>num_user_for_reviews</th>\n",
       "      <th>language</th>\n",
       "      <th>country</th>\n",
       "      <th>content_rating</th>\n",
       "      <th>budget</th>\n",
       "      <th>title_year</th>\n",
       "      <th>actor_2_facebook_likes</th>\n",
       "      <th>imdb_score</th>\n",
       "      <th>aspect_ratio</th>\n",
       "      <th>movie_facebook_likes</th>\n",
       "    </tr>\n",
       "  </thead>\n",
       "  <tbody>\n",
       "    <tr>\n",
       "      <th>0</th>\n",
       "      <td>Color</td>\n",
       "      <td>James Cameron</td>\n",
       "      <td>723.0</td>\n",
       "      <td>178.0</td>\n",
       "      <td>0.0</td>\n",
       "      <td>855.0</td>\n",
       "      <td>Joel David Moore</td>\n",
       "      <td>1000.0</td>\n",
       "      <td>760505847.0</td>\n",
       "      <td>Action|Adventure|Fantasy|Sci-Fi</td>\n",
       "      <td>...</td>\n",
       "      <td>3054.0</td>\n",
       "      <td>English</td>\n",
       "      <td>USA</td>\n",
       "      <td>PG-13</td>\n",
       "      <td>237000000.0</td>\n",
       "      <td>2009.0</td>\n",
       "      <td>936.0</td>\n",
       "      <td>7.9</td>\n",
       "      <td>1.78</td>\n",
       "      <td>33000</td>\n",
       "    </tr>\n",
       "    <tr>\n",
       "      <th>1</th>\n",
       "      <td>Color</td>\n",
       "      <td>Gore Verbinski</td>\n",
       "      <td>302.0</td>\n",
       "      <td>169.0</td>\n",
       "      <td>563.0</td>\n",
       "      <td>1000.0</td>\n",
       "      <td>Orlando Bloom</td>\n",
       "      <td>40000.0</td>\n",
       "      <td>309404152.0</td>\n",
       "      <td>Action|Adventure|Fantasy</td>\n",
       "      <td>...</td>\n",
       "      <td>1238.0</td>\n",
       "      <td>English</td>\n",
       "      <td>USA</td>\n",
       "      <td>PG-13</td>\n",
       "      <td>300000000.0</td>\n",
       "      <td>2007.0</td>\n",
       "      <td>5000.0</td>\n",
       "      <td>7.1</td>\n",
       "      <td>2.35</td>\n",
       "      <td>0</td>\n",
       "    </tr>\n",
       "    <tr>\n",
       "      <th>2</th>\n",
       "      <td>Color</td>\n",
       "      <td>Sam Mendes</td>\n",
       "      <td>602.0</td>\n",
       "      <td>148.0</td>\n",
       "      <td>0.0</td>\n",
       "      <td>161.0</td>\n",
       "      <td>Rory Kinnear</td>\n",
       "      <td>11000.0</td>\n",
       "      <td>200074175.0</td>\n",
       "      <td>Action|Adventure|Thriller</td>\n",
       "      <td>...</td>\n",
       "      <td>994.0</td>\n",
       "      <td>English</td>\n",
       "      <td>UK</td>\n",
       "      <td>PG-13</td>\n",
       "      <td>245000000.0</td>\n",
       "      <td>2015.0</td>\n",
       "      <td>393.0</td>\n",
       "      <td>6.8</td>\n",
       "      <td>2.35</td>\n",
       "      <td>85000</td>\n",
       "    </tr>\n",
       "    <tr>\n",
       "      <th>3</th>\n",
       "      <td>Color</td>\n",
       "      <td>Christopher Nolan</td>\n",
       "      <td>813.0</td>\n",
       "      <td>164.0</td>\n",
       "      <td>22000.0</td>\n",
       "      <td>23000.0</td>\n",
       "      <td>Christian Bale</td>\n",
       "      <td>27000.0</td>\n",
       "      <td>448130642.0</td>\n",
       "      <td>Action|Thriller</td>\n",
       "      <td>...</td>\n",
       "      <td>2701.0</td>\n",
       "      <td>English</td>\n",
       "      <td>USA</td>\n",
       "      <td>PG-13</td>\n",
       "      <td>250000000.0</td>\n",
       "      <td>2012.0</td>\n",
       "      <td>23000.0</td>\n",
       "      <td>8.5</td>\n",
       "      <td>2.35</td>\n",
       "      <td>164000</td>\n",
       "    </tr>\n",
       "    <tr>\n",
       "      <th>4</th>\n",
       "      <td>NaN</td>\n",
       "      <td>Doug Walker</td>\n",
       "      <td>NaN</td>\n",
       "      <td>NaN</td>\n",
       "      <td>131.0</td>\n",
       "      <td>NaN</td>\n",
       "      <td>Rob Walker</td>\n",
       "      <td>131.0</td>\n",
       "      <td>NaN</td>\n",
       "      <td>Documentary</td>\n",
       "      <td>...</td>\n",
       "      <td>NaN</td>\n",
       "      <td>NaN</td>\n",
       "      <td>NaN</td>\n",
       "      <td>NaN</td>\n",
       "      <td>NaN</td>\n",
       "      <td>NaN</td>\n",
       "      <td>12.0</td>\n",
       "      <td>7.1</td>\n",
       "      <td>NaN</td>\n",
       "      <td>0</td>\n",
       "    </tr>\n",
       "  </tbody>\n",
       "</table>\n",
       "<p>5 rows × 28 columns</p>\n",
       "</div>"
      ],
      "text/plain": [
       "   color      director_name  num_critic_for_reviews  duration  \\\n",
       "0  Color      James Cameron                   723.0     178.0   \n",
       "1  Color     Gore Verbinski                   302.0     169.0   \n",
       "2  Color         Sam Mendes                   602.0     148.0   \n",
       "3  Color  Christopher Nolan                   813.0     164.0   \n",
       "4    NaN        Doug Walker                     NaN       NaN   \n",
       "\n",
       "   director_facebook_likes  actor_3_facebook_likes      actor_2_name  \\\n",
       "0                      0.0                   855.0  Joel David Moore   \n",
       "1                    563.0                  1000.0     Orlando Bloom   \n",
       "2                      0.0                   161.0      Rory Kinnear   \n",
       "3                  22000.0                 23000.0    Christian Bale   \n",
       "4                    131.0                     NaN        Rob Walker   \n",
       "\n",
       "   actor_1_facebook_likes        gross                           genres  \\\n",
       "0                  1000.0  760505847.0  Action|Adventure|Fantasy|Sci-Fi   \n",
       "1                 40000.0  309404152.0         Action|Adventure|Fantasy   \n",
       "2                 11000.0  200074175.0        Action|Adventure|Thriller   \n",
       "3                 27000.0  448130642.0                  Action|Thriller   \n",
       "4                   131.0          NaN                      Documentary   \n",
       "\n",
       "          ...          num_user_for_reviews language  country  content_rating  \\\n",
       "0         ...                        3054.0  English      USA           PG-13   \n",
       "1         ...                        1238.0  English      USA           PG-13   \n",
       "2         ...                         994.0  English       UK           PG-13   \n",
       "3         ...                        2701.0  English      USA           PG-13   \n",
       "4         ...                           NaN      NaN      NaN             NaN   \n",
       "\n",
       "        budget  title_year actor_2_facebook_likes imdb_score  aspect_ratio  \\\n",
       "0  237000000.0      2009.0                  936.0        7.9          1.78   \n",
       "1  300000000.0      2007.0                 5000.0        7.1          2.35   \n",
       "2  245000000.0      2015.0                  393.0        6.8          2.35   \n",
       "3  250000000.0      2012.0                23000.0        8.5          2.35   \n",
       "4          NaN         NaN                   12.0        7.1           NaN   \n",
       "\n",
       "  movie_facebook_likes  \n",
       "0                33000  \n",
       "1                    0  \n",
       "2                85000  \n",
       "3               164000  \n",
       "4                    0  \n",
       "\n",
       "[5 rows x 28 columns]"
      ]
     },
     "execution_count": 11,
     "metadata": {},
     "output_type": "execute_result"
    }
   ],
   "source": [
    "ds = pd.read_csv('./movie_metadata.csv') #import file\n",
    "data = ds.values                         #to get all the values\n",
    "\n",
    "print ds.columns                         #to print all columns\n",
    "ds.head(n=5)                             #to print top 5 rows"
   ]
  },
  {
   "cell_type": "code",
   "execution_count": 15,
   "metadata": {
    "collapsed": false,
    "scrolled": false
   },
   "outputs": [
    {
     "name": "stdout",
     "output_type": "stream",
     "text": [
      "0                                                 Avatar \n",
      "1               Pirates of the Caribbean: At World's End \n",
      "2                                                Spectre \n",
      "3                                  The Dark Knight Rises \n",
      "4       Star Wars: Episode VII - The Force Awakens    ...\n",
      "5                                            John Carter \n",
      "6                                           Spider-Man 3 \n",
      "7                                                Tangled \n",
      "8                                Avengers: Age of Ultron \n",
      "9                 Harry Potter and the Half-Blood Prince \n",
      "10                    Batman v Superman: Dawn of Justice \n",
      "11                                      Superman Returns \n",
      "12                                     Quantum of Solace \n",
      "13            Pirates of the Caribbean: Dead Man's Chest \n",
      "14                                       The Lone Ranger \n",
      "15                                          Man of Steel \n",
      "16              The Chronicles of Narnia: Prince Caspian \n",
      "17                                          The Avengers \n",
      "18           Pirates of the Caribbean: On Stranger Tides \n",
      "19                                        Men in Black 3 \n",
      "20             The Hobbit: The Battle of the Five Armies \n",
      "21                                The Amazing Spider-Man \n",
      "22                                            Robin Hood \n",
      "23                   The Hobbit: The Desolation of Smaug \n",
      "24                                    The Golden Compass \n",
      "25                                             King Kong \n",
      "26                                               Titanic \n",
      "27                            Captain America: Civil War \n",
      "28                                            Battleship \n",
      "29                                        Jurassic World \n",
      "                              ...                        \n",
      "5013                                              Manito \n",
      "5014                                             Rampage \n",
      "5015                                             Slacker \n",
      "5016                                         Dutch Kills \n",
      "5017                                           Dry Spell \n",
      "5018                                            Flywheel \n",
      "5019                                              Exeter \n",
      "5020                                          The Ridges \n",
      "5021                                     The Puffy Chair \n",
      "5022                                Stories of Our Lives \n",
      "5023                                    Breaking Upwards \n",
      "5024                            All Superheroes Must Die \n",
      "5025                                      Pink Flamingos \n",
      "5026                                               Clean \n",
      "5027                                          The Circle \n",
      "5028                                         Tin Can Man \n",
      "5029                                            The Cure \n",
      "5030                                      On the Downlow \n",
      "5031                        Sanctuary; Quite a Conundrum \n",
      "5032                                                Bang \n",
      "5033                                              Primer \n",
      "5034                                              Cavite \n",
      "5035                                         El Mariachi \n",
      "5036                                     The Mongol King \n",
      "5037                                           Newlyweds \n",
      "5038                             Signed Sealed Delivered \n",
      "5039                           The Following             \n",
      "5040                                A Plague So Pleasant \n",
      "5041                                    Shanghai Calling \n",
      "5042                                   My Date with Drew \n",
      "Name: movie_title, dtype: object\n",
      "5043\n"
     ]
    }
   ],
   "source": [
    "data = ds.get('movie_title')        #to get all values of a column\n",
    "print data\n",
    "\n",
    "names = []\n",
    "\n",
    "for ix in data:\n",
    "    names.append(len(ix))           #append is for list(list same as array but are faster)\n",
    "print len(names)"
   ]
  },
  {
   "cell_type": "code",
   "execution_count": 22,
   "metadata": {
    "collapsed": false
   },
   "outputs": [
    {
     "name": "stdout",
     "output_type": "stream",
     "text": [
      "[ 8 42  9 ..., 22 18 19]\n",
      "5043\n"
     ]
    }
   ],
   "source": [
    "names = np.asarray(names)         #converted list to array\n",
    "print names\n",
    "        \n",
    "print names.shape[0]               #print dimensions"
   ]
  },
  {
   "cell_type": "code",
   "execution_count": 35,
   "metadata": {
    "collapsed": false
   },
   "outputs": [
    {
     "name": "stdout",
     "output_type": "stream",
     "text": [
      "{4: 1, 5: 10, 6: 18, 7: 23, 8: 21, 9: 48, 10: 47, 11: 68, 12: 66, 13: 57, 14: 58, 15: 52, 16: 61, 17: 50, 18: 55, 19: 44, 20: 30, 21: 31, 22: 27, 23: 22, 24: 20, 25: 23, 26: 12, 27: 18, 28: 13, 29: 9, 30: 12, 31: 6, 32: 8, 33: 11, 34: 5, 35: 6, 36: 7, 37: 7, 38: 3, 39: 9, 40: 4, 41: 4, 42: 5, 43: 5, 44: 2, 45: 4, 46: 3, 47: 4, 48: 1, 49: 1, 50: 1, 51: 1, 52: 3, 56: 2, 58: 1, 64: 1}\n"
     ]
    }
   ],
   "source": [
    "# print names.min(), names.max()\n",
    "\n",
    "freq = {}\n",
    "\n",
    "for fx in range(1000):               #created a dictionary if key exists increement value else create the key\n",
    "    try:\n",
    "        freq[names[fx]] += 1\n",
    "    except:\n",
    "        freq[names[fx]] = 1\n",
    "print freq"
   ]
  },
  {
   "cell_type": "code",
   "execution_count": 37,
   "metadata": {
    "collapsed": false
   },
   "outputs": [
    {
     "data": {
      "image/png": "[encoded data removed]",
      "text/plain": [
       "<matplotlib.figure.Figure at 0x7fbeac974850>"
      ]
     },
     "metadata": {},
     "output_type": "display_data"
    },
    {
     "name": "stdout",
     "output_type": "stream",
     "text": [
      "17.5542335911\n"
     ]
    }
   ],
   "source": [
    "plt.figure(0)                        #define a figure //0 to plot all in same graph\n",
    "plt.plot(freq.values())              #plot all values of freq \n",
    "\n",
    "plt.show()                          #show graph\n",
    "print names.mean()                   #print mean"
   ]
  },
  {
   "cell_type": "code",
   "execution_count": 40,
   "metadata": {
    "collapsed": false
   },
   "outputs": [
    {
     "name": "stdout",
     "output_type": "stream",
     "text": [
      "17.5542335911 73.3769417237 8.5660341888\n",
      "17.5542335911 8.5660341888\n"
     ]
    }
   ],
   "source": [
    "m = 0.0\n",
    "s = 0.0\n",
    "\n",
    "for ix in range(names.shape[0]):        #mean using loop\n",
    "    m += names[ix]\n",
    "mu = m/float(names.shape[0])\n",
    "\n",
    "for ix in range(names.shape[0]):        #sigma_sq variance\n",
    "    s += (names[ix] - mu)**2            #sqrt of sigma =std deviation\n",
    "sigma_sq = s/float(names.shape[0])\n",
    "\n",
    "print mu, sigma_sq, np.sqrt(sigma_sq)\n",
    "print names.mean(), names.std()"
   ]
  },
  {
   "cell_type": "code",
   "execution_count": 26,
   "metadata": {
    "collapsed": false
   },
   "outputs": [
    {
     "name": "stdout",
     "output_type": "stream",
     "text": [
      "0.494442206699 0.28906006479\n"
     ]
    }
   ],
   "source": [
    "a = np.random.random((10000, 1))      #Return random floats in the half-open interval [0.0, 1.0)\n",
    "print a.mean(), a.std()"
   ]
  },
  {
   "cell_type": "code",
   "execution_count": 30,
   "metadata": {
    "collapsed": false
   },
   "outputs": [
    {
     "name": "stdout",
     "output_type": "stream",
     "text": [
      "(1000, 2)\n",
      "[[ 4.84075636  2.37673104]\n",
      " [ 1.73326497  2.88100748]\n",
      " [ 2.69497722  2.72494306]\n",
      " ..., \n",
      " [-1.39584267  3.38879174]\n",
      " [-3.72866809  3.76735719]\n",
      " [-2.03133909  3.49191861]]\n"
     ]
    },
    {
     "name": "stderr",
     "output_type": "stream",
     "text": [
      "/home/himanshu/anaconda2/lib/python2.7/site-packages/ipykernel/__main__.py:4: RuntimeWarning: covariance is not positive-semidefinite.\n"
     ]
    },
    {
     "name": "stdout",
     "output_type": "stream",
     "text": [
      "3.0\n"
     ]
    },
    {
     "data": {
      "image/png": "[encoded data removed]",
      "text/plain": [
       "<matplotlib.figure.Figure at 0x7ff95b70fa50>"
      ]
     },
     "metadata": {},
     "output_type": "display_data"
    },
    {
     "name": "stdout",
     "output_type": "stream",
     "text": [
      "[ 1.01018662  2.99834694]\n",
      "[[ 5.1206498  -0.83096707]\n",
      " [-0.83096707  0.13484739]]\n"
     ]
    }
   ],
   "source": [
    "mean_01 = np.array([1.0, 3.0])           #co-ordinates of mean random value\n",
    "cov_01 = np.array([[0.70, -0.8], [-5.0, 0.70]])      #random co-ordinates of limits of area to get cluster of points in \n",
    "\n",
    "dist_01 = np.random.multivariate_normal(mean_01, cov_01, 1000)#Draw random samples from a multivariate normal distribution  \n",
    "print dist_01.shape                                           #for 1000 samples\n",
    "print dist_01 \n",
    "\n",
    "plt.figure(0)                           \n",
    "for px in range(dist_01.shape[0]):                        #loop to print all values on dist_01 values on the graph\n",
    "    plt.scatter(dist_01[px, 0], dist_01[px, 1])   #x,y coordinated,take x values as all rows for 0 column and y values as all rows for 1 column \n",
    "\n",
    "print mean_01[1] \n",
    "plt.scatter(mean_01[0], mean_01[1], color='red')   #plot mean on graph\n",
    "plt.show()\n",
    "\n",
    "print dist_01.mean(axis=0)                #calculate mean across array in 2-D as axis 0\n",
    "print np.cov(dist_01.T)                   #print co-variance syntax"
   ]
  }
 ],
 "metadata": {
  "anaconda-cloud": {},
  "kernelspec": {
   "display_name": "Python [default]",
   "language": "python",
   "name": "python2"
  },
  "language_info": {
   "codemirror_mode": {
    "name": "ipython",
    "version": 2
   },
   "file_extension": ".py",
   "mimetype": "text/x-python",
   "name": "python",
   "nbconvert_exporter": "python",
   "pygments_lexer": "ipython2",
   "version": "2.7.12"
  }
 },
 "nbformat": 4,
 "nbformat_minor": 2
}
