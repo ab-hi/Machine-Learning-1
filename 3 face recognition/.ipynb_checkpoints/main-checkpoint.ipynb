{
 "cells": [
  {
   "cell_type": "code",
   "execution_count": 1,
   "metadata": {
    "collapsed": true
   },
   "outputs": [],
   "source": [
    "import numpy as np\n",
    "from matplotlib import pyplot as plt\n",
    "%matplotlib inline"
   ]
  },
  {
   "cell_type": "code",
   "execution_count": 4,
   "metadata": {
    "collapsed": false
   },
   "outputs": [],
   "source": [
    "f=np.load('./facedata.npy')\n",
    "f.shape\n",
    "\n",
    "f=f.reshape((f.shape[0],f.shape[1]*f.shape[2]))"
   ]
  },
  {
   "cell_type": "code",
   "execution_count": 5,
   "metadata": {
    "collapsed": false
   },
   "outputs": [
    {
     "name": "stdout",
     "output_type": "stream",
     "text": [
      "(10,)\n",
      "['tushar' 'tushar' 'tushar' 'tushar' 'tushar' 'anshul' 'anshul' 'anshul'\n",
      " 'anshul' 'anshul']\n"
     ]
    }
   ],
   "source": [
    "l=np.load('./facelabels.npy')\n",
    "print l.shape\n",
    "print l"
   ]
  },
  {
   "cell_type": "code",
   "execution_count": 32,
   "metadata": {
    "collapsed": false
   },
   "outputs": [
    {
     "name": "stdout",
     "output_type": "stream",
     "text": [
      "1\n",
      "0\n",
      "['tushar']\n",
      "tushar\n",
      "tushar\n"
     ]
    }
   ],
   "source": [
    "def dist(x1, x2):\n",
    "    return np.sqrt(((x1 - x2)**2).sum())\n",
    "\n",
    "\n",
    "def knn(X_train, x, y_train, k):\n",
    "    vals = []\n",
    "    \n",
    "    for ix in range(X_train.shape[0]):\n",
    "        v = [dist(x, X_train[ix, :]), y_train[ix]]\n",
    "        vals.append(v)\n",
    "    \n",
    "    updated_vals = sorted(vals, key=lambda x: x[0])\n",
    "    pred_arr = np.asarray(updated_vals[:k])\n",
    "    pred_arr = np.unique(pred_arr[:, 1], return_counts=True)\n",
    "    pred = pred_arr[1].argmax()\n",
    "    \n",
    "    \n",
    "    print pred\n",
    "    \n",
    "    # return pred_arr[0][pred]\n",
    "    return pred_arr[0][pred]\n",
    "\n",
    "sample=int((np.random.random())*f.shape[0])\n",
    "print sample\n",
    "q=f[sample]\n",
    "res = knn(f[:10000], q, l[:10000], 5)\n",
    "print res\n",
    "print l[sample]"
   ]
  }
 ],
 "metadata": {
  "kernelspec": {
   "display_name": "Python [default]",
   "language": "python",
   "name": "python2"
  },
  "language_info": {
   "codemirror_mode": {
    "name": "ipython",
    "version": 2
   },
   "file_extension": ".py",
   "mimetype": "text/x-python",
   "name": "python",
   "nbconvert_exporter": "python",
   "pygments_lexer": "ipython2",
   "version": "2.7.12"
  }
 },
 "nbformat": 4,
 "nbformat_minor": 1
}
